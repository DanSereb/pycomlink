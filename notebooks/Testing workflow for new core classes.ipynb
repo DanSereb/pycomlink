{
 "cells": [
  {
   "cell_type": "code",
   "execution_count": 1,
   "metadata": {
    "collapsed": false
   },
   "outputs": [],
   "source": [
    "%load_ext autoreload\n",
    "%autoreload 2"
   ]
  },
  {
   "cell_type": "code",
   "execution_count": 2,
   "metadata": {
    "collapsed": true
   },
   "outputs": [],
   "source": [
    "from pycomlink.core import ComlinkChannel "
   ]
  },
  {
   "cell_type": "code",
   "execution_count": 3,
   "metadata": {
    "collapsed": false
   },
   "outputs": [
    {
     "name": "stdout",
     "output_type": "stream",
     "text": [
      "f_GHz:  10.0\n"
     ]
    },
    {
     "data": {
      "text/html": [
       "<div>\n",
       "<table border=\"1\" class=\"dataframe\">\n",
       "  <thead>\n",
       "    <tr style=\"text-align: right;\">\n",
       "      <th></th>\n",
       "      <th>rx</th>\n",
       "    </tr>\n",
       "  </thead>\n",
       "  <tbody>\n",
       "    <tr>\n",
       "      <th>1</th>\n",
       "      <td>1</td>\n",
       "    </tr>\n",
       "    <tr>\n",
       "      <th>2</th>\n",
       "      <td>2</td>\n",
       "    </tr>\n",
       "    <tr>\n",
       "      <th>3</th>\n",
       "      <td>4</td>\n",
       "    </tr>\n",
       "  </tbody>\n",
       "</table>\n",
       "</div>"
      ],
      "text/plain": [
       "<pycomlink.core.comlink_channel.ComlinkChannel at 0x114fdaf90>"
      ]
     },
     "execution_count": 3,
     "metadata": {},
     "output_type": "execute_result"
    }
   ],
   "source": [
    "cml_ch = ComlinkChannel(t=[1,2,3], rx=[1,2,4], f_GHz=10.0)\n",
    "cml_ch"
   ]
  },
  {
   "cell_type": "code",
   "execution_count": 4,
   "metadata": {
    "collapsed": false
   },
   "outputs": [],
   "source": [
    "import numpy as np\n",
    "import pandas as pd\n",
    "\n",
    "from pycomlink.core.comlink_channel import ComlinkChannel\n",
    "\n",
    "t_date_range = pd.date_range(start='2015-01-01', periods=20, freq='min')\n",
    "t_list = [str(date) for date in t_date_range]\n",
    "rx_list = list(np.sin(np.linspace(0, 10, len(t_list))))\n",
    "tx_list = list(np.cos(np.linspace(0, 10, len(t_list))))\n",
    "\n",
    "rx2_list = list(2*np.sin(np.linspace(0, 10, len(t_list))))\n",
    "tx2_list = list(2*np.cos(np.linspace(0, 10, len(t_list))))\n",
    "\n",
    "df = pd.DataFrame(index=t_date_range, data={'rx': rx_list})\n",
    "cml_ch = ComlinkChannel(data=df, f_GHz=13.4)"
   ]
  },
  {
   "cell_type": "code",
   "execution_count": 5,
   "metadata": {
    "collapsed": false
   },
   "outputs": [
    {
     "name": "stdout",
     "output_type": "stream",
     "text": [
      "f_GHz:  13.4\n"
     ]
    },
    {
     "data": {
      "text/html": [
       "<div>\n",
       "<table border=\"1\" class=\"dataframe\">\n",
       "  <thead>\n",
       "    <tr style=\"text-align: right;\">\n",
       "      <th></th>\n",
       "      <th>rx</th>\n",
       "    </tr>\n",
       "  </thead>\n",
       "  <tbody>\n",
       "    <tr>\n",
       "      <th>2015-01-01 00:00:00</th>\n",
       "      <td>0.000000</td>\n",
       "    </tr>\n",
       "    <tr>\n",
       "      <th>2015-01-01 00:01:00</th>\n",
       "      <td>0.502351</td>\n",
       "    </tr>\n",
       "    <tr>\n",
       "      <th>2015-01-01 00:02:00</th>\n",
       "      <td>0.868730</td>\n",
       "    </tr>\n",
       "    <tr>\n",
       "      <th>2015-01-01 00:03:00</th>\n",
       "      <td>0.999967</td>\n",
       "    </tr>\n",
       "    <tr>\n",
       "      <th>2015-01-01 00:04:00</th>\n",
       "      <td>0.860540</td>\n",
       "    </tr>\n",
       "    <tr>\n",
       "      <th>2015-01-01 00:05:00</th>\n",
       "      <td>0.488189</td>\n",
       "    </tr>\n",
       "    <tr>\n",
       "      <th>2015-01-01 00:06:00</th>\n",
       "      <td>-0.016301</td>\n",
       "    </tr>\n",
       "    <tr>\n",
       "      <th>2015-01-01 00:07:00</th>\n",
       "      <td>-0.516380</td>\n",
       "    </tr>\n",
       "    <tr>\n",
       "      <th>2015-01-01 00:08:00</th>\n",
       "      <td>-0.876688</td>\n",
       "    </tr>\n",
       "    <tr>\n",
       "      <th>2015-01-01 00:09:00</th>\n",
       "      <td>-0.999701</td>\n",
       "    </tr>\n",
       "    <tr>\n",
       "      <th>2015-01-01 00:10:00</th>\n",
       "      <td>-0.852122</td>\n",
       "    </tr>\n",
       "    <tr>\n",
       "      <th>2015-01-01 00:11:00</th>\n",
       "      <td>-0.473898</td>\n",
       "    </tr>\n",
       "    <tr>\n",
       "      <th>2015-01-01 00:12:00</th>\n",
       "      <td>0.032598</td>\n",
       "    </tr>\n",
       "    <tr>\n",
       "      <th>2015-01-01 00:13:00</th>\n",
       "      <td>0.530271</td>\n",
       "    </tr>\n",
       "    <tr>\n",
       "      <th>2015-01-01 00:14:00</th>\n",
       "      <td>0.884413</td>\n",
       "    </tr>\n",
       "    <tr>\n",
       "      <th>2015-01-01 00:15:00</th>\n",
       "      <td>0.999170</td>\n",
       "    </tr>\n",
       "    <tr>\n",
       "      <th>2015-01-01 00:16:00</th>\n",
       "      <td>0.843478</td>\n",
       "    </tr>\n",
       "    <tr>\n",
       "      <th>2015-01-01 00:17:00</th>\n",
       "      <td>0.459480</td>\n",
       "    </tr>\n",
       "    <tr>\n",
       "      <th>2015-01-01 00:18:00</th>\n",
       "      <td>-0.048887</td>\n",
       "    </tr>\n",
       "    <tr>\n",
       "      <th>2015-01-01 00:19:00</th>\n",
       "      <td>-0.544021</td>\n",
       "    </tr>\n",
       "  </tbody>\n",
       "</table>\n",
       "</div>"
      ],
      "text/plain": [
       "<pycomlink.core.comlink_channel.ComlinkChannel at 0x11510e510>"
      ]
     },
     "execution_count": 5,
     "metadata": {},
     "output_type": "execute_result"
    }
   ],
   "source": [
    "cml_ch"
   ]
  },
  {
   "cell_type": "code",
   "execution_count": 6,
   "metadata": {
    "collapsed": false
   },
   "outputs": [
    {
     "data": {
      "text/plain": [
       "2015-01-01 00:00:00    0.000000\n",
       "2015-01-01 00:01:00    0.502351\n",
       "2015-01-01 00:02:00    0.868730\n",
       "2015-01-01 00:03:00    0.999967\n",
       "2015-01-01 00:04:00    0.860540\n",
       "2015-01-01 00:05:00    0.488189\n",
       "2015-01-01 00:06:00   -0.016301\n",
       "2015-01-01 00:07:00   -0.516380\n",
       "2015-01-01 00:08:00   -0.876688\n",
       "2015-01-01 00:09:00   -0.999701\n",
       "2015-01-01 00:10:00   -0.852122\n",
       "2015-01-01 00:11:00   -0.473898\n",
       "2015-01-01 00:12:00    0.032598\n",
       "2015-01-01 00:13:00    0.530271\n",
       "2015-01-01 00:14:00    0.884413\n",
       "2015-01-01 00:15:00    0.999170\n",
       "2015-01-01 00:16:00    0.843478\n",
       "2015-01-01 00:17:00    0.459480\n",
       "2015-01-01 00:18:00   -0.048887\n",
       "2015-01-01 00:19:00   -0.544021\n",
       "Freq: T, Name: rx, dtype: float64"
      ]
     },
     "execution_count": 6,
     "metadata": {},
     "output_type": "execute_result"
    }
   ],
   "source": [
    "cml_ch.rx"
   ]
  },
  {
   "cell_type": "code",
   "execution_count": 7,
   "metadata": {
    "collapsed": false
   },
   "outputs": [
    {
     "name": "stdout",
     "output_type": "stream",
     "text": [
      "f_GHz:  13.4\n"
     ]
    },
    {
     "data": {
      "text/html": [
       "<div>\n",
       "<table border=\"1\" class=\"dataframe\">\n",
       "  <thead>\n",
       "    <tr style=\"text-align: right;\">\n",
       "      <th></th>\n",
       "      <th>rx</th>\n",
       "    </tr>\n",
       "  </thead>\n",
       "  <tbody>\n",
       "    <tr>\n",
       "      <th>2015-01-01 00:00:00</th>\n",
       "      <td>0.646318</td>\n",
       "    </tr>\n",
       "    <tr>\n",
       "      <th>2015-01-01 00:05:00</th>\n",
       "      <td>-0.384176</td>\n",
       "    </tr>\n",
       "    <tr>\n",
       "      <th>2015-01-01 00:10:00</th>\n",
       "      <td>0.024253</td>\n",
       "    </tr>\n",
       "    <tr>\n",
       "      <th>2015-01-01 00:15:00</th>\n",
       "      <td>0.341844</td>\n",
       "    </tr>\n",
       "  </tbody>\n",
       "</table>\n",
       "</div>"
      ],
      "text/plain": [
       "<pycomlink.core.comlink_channel.ComlinkChannel at 0x11510ef10>"
      ]
     },
     "execution_count": 7,
     "metadata": {},
     "output_type": "execute_result"
    }
   ],
   "source": [
    "cml_ch_5min = cml_ch.resample('5min')\n",
    "cml_ch_5min"
   ]
  },
  {
   "cell_type": "code",
   "execution_count": 8,
   "metadata": {
    "collapsed": false
   },
   "outputs": [
    {
     "name": "stdout",
     "output_type": "stream",
     "text": [
      "f_GHz:  13.4\n"
     ]
    },
    {
     "data": {
      "text/html": [
       "<div>\n",
       "<table border=\"1\" class=\"dataframe\">\n",
       "  <thead>\n",
       "    <tr style=\"text-align: right;\">\n",
       "      <th></th>\n",
       "      <th>rx</th>\n",
       "    </tr>\n",
       "  </thead>\n",
       "  <tbody>\n",
       "    <tr>\n",
       "      <th>2015-01-01 00:10:00</th>\n",
       "      <td>-0.852122</td>\n",
       "    </tr>\n",
       "    <tr>\n",
       "      <th>2015-01-01 00:11:00</th>\n",
       "      <td>-0.473898</td>\n",
       "    </tr>\n",
       "    <tr>\n",
       "      <th>2015-01-01 00:12:00</th>\n",
       "      <td>0.032598</td>\n",
       "    </tr>\n",
       "    <tr>\n",
       "      <th>2015-01-01 00:13:00</th>\n",
       "      <td>0.530271</td>\n",
       "    </tr>\n",
       "  </tbody>\n",
       "</table>\n",
       "</div>"
      ],
      "text/plain": [
       "<pycomlink.core.comlink_channel.ComlinkChannel at 0x114fdac10>"
      ]
     },
     "execution_count": 8,
     "metadata": {},
     "output_type": "execute_result"
    }
   ],
   "source": [
    "cml_ch_slice = cml_ch['2015-01-01 00:10:00':'2015-01-01 00:13:00']\n",
    "cml_ch_slice"
   ]
  },
  {
   "cell_type": "code",
   "execution_count": 9,
   "metadata": {
    "collapsed": false
   },
   "outputs": [
    {
     "name": "stdout",
     "output_type": "stream",
     "text": [
      "f_GHz:  13.4\n"
     ]
    },
    {
     "data": {
      "text/html": [
       "<div>\n",
       "<table border=\"1\" class=\"dataframe\">\n",
       "  <thead>\n",
       "    <tr style=\"text-align: right;\">\n",
       "      <th></th>\n",
       "      <th>rx</th>\n",
       "    </tr>\n",
       "  </thead>\n",
       "  <tbody>\n",
       "    <tr>\n",
       "      <th>2015-01-01 00:00:00</th>\n",
       "      <td>0.000000</td>\n",
       "    </tr>\n",
       "    <tr>\n",
       "      <th>2015-01-01 00:01:00</th>\n",
       "      <td>0.502351</td>\n",
       "    </tr>\n",
       "    <tr>\n",
       "      <th>2015-01-01 00:02:00</th>\n",
       "      <td>0.868730</td>\n",
       "    </tr>\n",
       "    <tr>\n",
       "      <th>2015-01-01 00:03:00</th>\n",
       "      <td>0.999967</td>\n",
       "    </tr>\n",
       "    <tr>\n",
       "      <th>2015-01-01 00:04:00</th>\n",
       "      <td>0.860540</td>\n",
       "    </tr>\n",
       "    <tr>\n",
       "      <th>2015-01-01 00:05:00</th>\n",
       "      <td>0.488189</td>\n",
       "    </tr>\n",
       "    <tr>\n",
       "      <th>2015-01-01 00:06:00</th>\n",
       "      <td>-0.016301</td>\n",
       "    </tr>\n",
       "    <tr>\n",
       "      <th>2015-01-01 00:07:00</th>\n",
       "      <td>-0.516380</td>\n",
       "    </tr>\n",
       "    <tr>\n",
       "      <th>2015-01-01 00:08:00</th>\n",
       "      <td>-0.876688</td>\n",
       "    </tr>\n",
       "    <tr>\n",
       "      <th>2015-01-01 00:09:00</th>\n",
       "      <td>-0.999701</td>\n",
       "    </tr>\n",
       "    <tr>\n",
       "      <th>2015-01-01 00:10:00</th>\n",
       "      <td>-0.852122</td>\n",
       "    </tr>\n",
       "    <tr>\n",
       "      <th>2015-01-01 00:11:00</th>\n",
       "      <td>-0.473898</td>\n",
       "    </tr>\n",
       "    <tr>\n",
       "      <th>2015-01-01 00:12:00</th>\n",
       "      <td>0.032598</td>\n",
       "    </tr>\n",
       "    <tr>\n",
       "      <th>2015-01-01 00:13:00</th>\n",
       "      <td>0.530271</td>\n",
       "    </tr>\n",
       "    <tr>\n",
       "      <th>2015-01-01 00:14:00</th>\n",
       "      <td>0.884413</td>\n",
       "    </tr>\n",
       "    <tr>\n",
       "      <th>2015-01-01 00:15:00</th>\n",
       "      <td>0.999170</td>\n",
       "    </tr>\n",
       "    <tr>\n",
       "      <th>2015-01-01 00:16:00</th>\n",
       "      <td>0.843478</td>\n",
       "    </tr>\n",
       "    <tr>\n",
       "      <th>2015-01-01 00:17:00</th>\n",
       "      <td>0.459480</td>\n",
       "    </tr>\n",
       "    <tr>\n",
       "      <th>2015-01-01 00:18:00</th>\n",
       "      <td>-0.048887</td>\n",
       "    </tr>\n",
       "    <tr>\n",
       "      <th>2015-01-01 00:19:00</th>\n",
       "      <td>-0.544021</td>\n",
       "    </tr>\n",
       "  </tbody>\n",
       "</table>\n",
       "</div>"
      ],
      "text/plain": [
       "<pycomlink.core.comlink_channel.ComlinkChannel at 0x11510e510>"
      ]
     },
     "execution_count": 9,
     "metadata": {},
     "output_type": "execute_result"
    }
   ],
   "source": [
    "cml_ch"
   ]
  },
  {
   "cell_type": "code",
   "execution_count": 17,
   "metadata": {
    "collapsed": false
   },
   "outputs": [
    {
     "name": "stdout",
     "output_type": "stream",
     "text": [
      "f_GHz:  13.4\n"
     ]
    },
    {
     "data": {
      "text/html": [
       "<div>\n",
       "<table border=\"1\" class=\"dataframe\">\n",
       "  <thead>\n",
       "    <tr style=\"text-align: right;\">\n",
       "      <th></th>\n",
       "      <th>rx</th>\n",
       "    </tr>\n",
       "  </thead>\n",
       "  <tbody>\n",
       "    <tr>\n",
       "      <th>2015-01-01 00:10:00</th>\n",
       "      <td>-99.9</td>\n",
       "    </tr>\n",
       "    <tr>\n",
       "      <th>2015-01-01 00:11:00</th>\n",
       "      <td>-99999.9</td>\n",
       "    </tr>\n",
       "    <tr>\n",
       "      <th>2015-01-01 00:12:00</th>\n",
       "      <td>-99.9</td>\n",
       "    </tr>\n",
       "    <tr>\n",
       "      <th>2015-01-01 00:13:00</th>\n",
       "      <td>-99.9</td>\n",
       "    </tr>\n",
       "  </tbody>\n",
       "</table>\n",
       "</div>"
      ],
      "text/plain": [
       "<pycomlink.core.comlink_channel.ComlinkChannel at 0x114fdac10>"
      ]
     },
     "execution_count": 17,
     "metadata": {},
     "output_type": "execute_result"
    }
   ],
   "source": [
    "cml_ch_slice._df.rx[1] = -99999.9\n",
    "cml_ch_slice"
   ]
  },
  {
   "cell_type": "code",
   "execution_count": 15,
   "metadata": {
    "collapsed": false
   },
   "outputs": [
    {
     "name": "stdout",
     "output_type": "stream",
     "text": [
      "f_GHz:  13.4\n"
     ]
    },
    {
     "data": {
      "text/html": [
       "<div>\n",
       "<table border=\"1\" class=\"dataframe\">\n",
       "  <thead>\n",
       "    <tr style=\"text-align: right;\">\n",
       "      <th></th>\n",
       "      <th>rx</th>\n",
       "    </tr>\n",
       "  </thead>\n",
       "  <tbody>\n",
       "    <tr>\n",
       "      <th>2015-01-01 00:00:00</th>\n",
       "      <td>0.000000</td>\n",
       "    </tr>\n",
       "    <tr>\n",
       "      <th>2015-01-01 00:01:00</th>\n",
       "      <td>0.502351</td>\n",
       "    </tr>\n",
       "    <tr>\n",
       "      <th>2015-01-01 00:02:00</th>\n",
       "      <td>0.868730</td>\n",
       "    </tr>\n",
       "    <tr>\n",
       "      <th>2015-01-01 00:03:00</th>\n",
       "      <td>0.999967</td>\n",
       "    </tr>\n",
       "    <tr>\n",
       "      <th>2015-01-01 00:04:00</th>\n",
       "      <td>0.860540</td>\n",
       "    </tr>\n",
       "    <tr>\n",
       "      <th>2015-01-01 00:05:00</th>\n",
       "      <td>0.488189</td>\n",
       "    </tr>\n",
       "    <tr>\n",
       "      <th>2015-01-01 00:06:00</th>\n",
       "      <td>-0.016301</td>\n",
       "    </tr>\n",
       "    <tr>\n",
       "      <th>2015-01-01 00:07:00</th>\n",
       "      <td>-0.516380</td>\n",
       "    </tr>\n",
       "    <tr>\n",
       "      <th>2015-01-01 00:08:00</th>\n",
       "      <td>-0.876688</td>\n",
       "    </tr>\n",
       "    <tr>\n",
       "      <th>2015-01-01 00:09:00</th>\n",
       "      <td>-0.999701</td>\n",
       "    </tr>\n",
       "    <tr>\n",
       "      <th>2015-01-01 00:10:00</th>\n",
       "      <td>-0.852122</td>\n",
       "    </tr>\n",
       "    <tr>\n",
       "      <th>2015-01-01 00:11:00</th>\n",
       "      <td>-9990.000000</td>\n",
       "    </tr>\n",
       "    <tr>\n",
       "      <th>2015-01-01 00:12:00</th>\n",
       "      <td>0.032598</td>\n",
       "    </tr>\n",
       "    <tr>\n",
       "      <th>2015-01-01 00:13:00</th>\n",
       "      <td>0.530271</td>\n",
       "    </tr>\n",
       "    <tr>\n",
       "      <th>2015-01-01 00:14:00</th>\n",
       "      <td>0.884413</td>\n",
       "    </tr>\n",
       "    <tr>\n",
       "      <th>2015-01-01 00:15:00</th>\n",
       "      <td>0.999170</td>\n",
       "    </tr>\n",
       "    <tr>\n",
       "      <th>2015-01-01 00:16:00</th>\n",
       "      <td>0.843478</td>\n",
       "    </tr>\n",
       "    <tr>\n",
       "      <th>2015-01-01 00:17:00</th>\n",
       "      <td>0.459480</td>\n",
       "    </tr>\n",
       "    <tr>\n",
       "      <th>2015-01-01 00:18:00</th>\n",
       "      <td>-0.048887</td>\n",
       "    </tr>\n",
       "    <tr>\n",
       "      <th>2015-01-01 00:19:00</th>\n",
       "      <td>-0.544021</td>\n",
       "    </tr>\n",
       "  </tbody>\n",
       "</table>\n",
       "</div>"
      ],
      "text/plain": [
       "<pycomlink.core.comlink_channel.ComlinkChannel at 0x11580e4d0>"
      ]
     },
     "execution_count": 15,
     "metadata": {},
     "output_type": "execute_result"
    }
   ],
   "source": [
    "cml_ch"
   ]
  },
  {
   "cell_type": "code",
   "execution_count": null,
   "metadata": {
    "collapsed": true
   },
   "outputs": [],
   "source": []
  },
  {
   "cell_type": "code",
   "execution_count": null,
   "metadata": {
    "collapsed": true
   },
   "outputs": [],
   "source": []
  }
 ],
 "metadata": {
  "kernelspec": {
   "display_name": "Python 2",
   "language": "python",
   "name": "python2"
  },
  "language_info": {
   "codemirror_mode": {
    "name": "ipython",
    "version": 2
   },
   "file_extension": ".py",
   "mimetype": "text/x-python",
   "name": "python",
   "nbconvert_exporter": "python",
   "pygments_lexer": "ipython2",
   "version": "2.7.10"
  }
 },
 "nbformat": 4,
 "nbformat_minor": 0
}
