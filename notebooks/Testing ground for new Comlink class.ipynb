{
 "cells": [
  {
   "cell_type": "code",
   "execution_count": 1,
   "metadata": {
    "collapsed": false
   },
   "outputs": [],
   "source": [
    "%load_ext autoreload\n",
    "%autoreload 2"
   ]
  },
  {
   "cell_type": "code",
   "execution_count": 2,
   "metadata": {
    "collapsed": true
   },
   "outputs": [],
   "source": [
    "%matplotlib inline"
   ]
  },
  {
   "cell_type": "code",
   "execution_count": 3,
   "metadata": {
    "collapsed": false
   },
   "outputs": [],
   "source": [
    "import numpy as np\n",
    "import pandas as pd\n",
    "import matplotlib.pyplot as plt\n",
    "\n",
    "import pycomlink as pycml\n",
    "from pycomlink.core import ComlinkChannel\n",
    "\n",
    "f =  16\n",
    "\n",
    "t_date_range = pd.date_range(start='2015-01-01', periods=200, freq='min')\n",
    "t_list = [str(date) for date in t_date_range]\n",
    "rx_list = list(np.sin(np.linspace(0, 10, len(t_list))))\n",
    "tx_list = list(np.cos(np.linspace(0, 10, len(t_list))))\n",
    "\n",
    "df = pd.DataFrame(index=t_date_range, data={'rx': rx_list})\n",
    "cml_ch_1min = ComlinkChannel(data=df, f_GHz=f)\n",
    "cml_ch_5min = ComlinkChannel(data=df.resample('5min').apply(np.mean), f_GHz=f)"
   ]
  },
  {
   "cell_type": "code",
   "execution_count": 4,
   "metadata": {
    "collapsed": true
   },
   "outputs": [],
   "source": [
    "from pycomlink.core import Comlink"
   ]
  },
  {
   "cell_type": "code",
   "execution_count": 5,
   "metadata": {
    "collapsed": false
   },
   "outputs": [],
   "source": [
    "site_dict = {'site_a_latitude': 48.1,\n",
    "             'site_a_longitude': 11.1,\n",
    "             'site_b_latitude': 48.2,\n",
    "             'site_b_longitude': 11.0}\n",
    "\n",
    "cml = Comlink(channels=[cml_ch_1min, cml_ch_1min], cml_id='F00Bar', **site_dict)"
   ]
  },
  {
   "cell_type": "code",
   "execution_count": 6,
   "metadata": {
    "collapsed": false
   },
   "outputs": [
    {
     "data": {
      "text/plain": [
       "<matplotlib.axes._subplots.AxesSubplot at 0x10d61dfd0>"
      ]
     },
     "execution_count": 6,
     "metadata": {},
     "output_type": "execute_result"
    },
    {
     "data": {
      "image/png": "[encoded data removed]",
      "text/plain": [
       "<matplotlib.figure.Figure at 0x10d61d810>"
      ]
     },
     "metadata": {},
     "output_type": "display_data"
    }
   ],
   "source": [
    "cml.plot_line()"
   ]
  },
  {
   "cell_type": "code",
   "execution_count": 7,
   "metadata": {
    "collapsed": false
   },
   "outputs": [
    {
     "data": {
      "text/html": [
       "<div style=\"width:100%;\"><div style=\"position:relative;width:100%;height:0;padding-bottom:60%;\"><iframe src=\"data:text/html;base64,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\" style=\"position:absolute;width:100%;height:100%;left:0;top:0;\"></iframe></div></div>"
      ],
      "text/plain": [
       "<folium.folium.Map at 0x11a221950>"
      ]
     },
     "execution_count": 7,
     "metadata": {},
     "output_type": "execute_result"
    }
   ],
   "source": [
    "cml.plot_map()"
   ]
  },
  {
   "cell_type": "code",
   "execution_count": 10,
   "metadata": {
    "collapsed": false
   },
   "outputs": [
    {
     "data": {
      "text/html": [
       "<table> <tr> <td> channel_1<br/>f_GHz: 16<div>\n",
       "<table border=\"1\" class=\"dataframe\">\n",
       "  <thead>\n",
       "    <tr style=\"text-align: right;\">\n",
       "      <th></th>\n",
       "      <th>rx</th>\n",
       "    </tr>\n",
       "  </thead>\n",
       "  <tbody>\n",
       "    <tr>\n",
       "      <th>2015-01-01 00:00:00</th>\n",
       "      <td>0.000000</td>\n",
       "    </tr>\n",
       "    <tr>\n",
       "      <th>2015-01-01 00:01:00</th>\n",
       "      <td>0.050230</td>\n",
       "    </tr>\n",
       "    <tr>\n",
       "      <th>2015-01-01 00:02:00</th>\n",
       "      <td>0.100333</td>\n",
       "    </tr>\n",
       "    <tr>\n",
       "      <th>2015-01-01 00:03:00</th>\n",
       "      <td>0.150183</td>\n",
       "    </tr>\n",
       "    <tr>\n",
       "      <th>2015-01-01 00:04:00</th>\n",
       "      <td>0.199654</td>\n",
       "    </tr>\n",
       "    <tr>\n",
       "      <th>2015-01-01 00:05:00</th>\n",
       "      <td>0.248621</td>\n",
       "    </tr>\n",
       "    <tr>\n",
       "      <th>2015-01-01 00:06:00</th>\n",
       "      <td>0.296960</td>\n",
       "    </tr>\n",
       "    <tr>\n",
       "      <th>2015-01-01 00:07:00</th>\n",
       "      <td>0.344549</td>\n",
       "    </tr>\n",
       "    <tr>\n",
       "      <th>2015-01-01 00:08:00</th>\n",
       "      <td>0.391269</td>\n",
       "    </tr>\n",
       "    <tr>\n",
       "      <th>2015-01-01 00:09:00</th>\n",
       "      <td>0.437001</td>\n",
       "    </tr>\n",
       "    <tr>\n",
       "      <th>2015-01-01 00:10:00</th>\n",
       "      <td>0.481629</td>\n",
       "    </tr>\n",
       "    <tr>\n",
       "      <th>2015-01-01 00:11:00</th>\n",
       "      <td>0.525041</td>\n",
       "    </tr>\n",
       "    <tr>\n",
       "      <th>2015-01-01 00:12:00</th>\n",
       "      <td>0.567128</td>\n",
       "    </tr>\n",
       "    <tr>\n",
       "      <th>2015-01-01 00:13:00</th>\n",
       "      <td>0.607783</td>\n",
       "    </tr>\n",
       "    <tr>\n",
       "      <th>2015-01-01 00:14:00</th>\n",
       "      <td>0.646904</td>\n",
       "    </tr>\n",
       "    <tr>\n",
       "      <th>2015-01-01 00:15:00</th>\n",
       "      <td>0.684392</td>\n",
       "    </tr>\n",
       "    <tr>\n",
       "      <th>2015-01-01 00:16:00</th>\n",
       "      <td>0.720151</td>\n",
       "    </tr>\n",
       "    <tr>\n",
       "      <th>2015-01-01 00:17:00</th>\n",
       "      <td>0.754093</td>\n",
       "    </tr>\n",
       "    <tr>\n",
       "      <th>2015-01-01 00:18:00</th>\n",
       "      <td>0.786130</td>\n",
       "    </tr>\n",
       "    <tr>\n",
       "      <th>2015-01-01 00:19:00</th>\n",
       "      <td>0.816183</td>\n",
       "    </tr>\n",
       "    <tr>\n",
       "      <th>2015-01-01 00:20:00</th>\n",
       "      <td>0.844175</td>\n",
       "    </tr>\n",
       "    <tr>\n",
       "      <th>2015-01-01 00:21:00</th>\n",
       "      <td>0.870037</td>\n",
       "    </tr>\n",
       "    <tr>\n",
       "      <th>2015-01-01 00:22:00</th>\n",
       "      <td>0.893701</td>\n",
       "    </tr>\n",
       "    <tr>\n",
       "      <th>2015-01-01 00:23:00</th>\n",
       "      <td>0.915109</td>\n",
       "    </tr>\n",
       "    <tr>\n",
       "      <th>2015-01-01 00:24:00</th>\n",
       "      <td>0.934207</td>\n",
       "    </tr>\n",
       "    <tr>\n",
       "      <th>2015-01-01 00:25:00</th>\n",
       "      <td>0.950947</td>\n",
       "    </tr>\n",
       "    <tr>\n",
       "      <th>2015-01-01 00:26:00</th>\n",
       "      <td>0.965285</td>\n",
       "    </tr>\n",
       "    <tr>\n",
       "      <th>2015-01-01 00:27:00</th>\n",
       "      <td>0.977187</td>\n",
       "    </tr>\n",
       "    <tr>\n",
       "      <th>2015-01-01 00:28:00</th>\n",
       "      <td>0.986621</td>\n",
       "    </tr>\n",
       "    <tr>\n",
       "      <th>2015-01-01 00:29:00</th>\n",
       "      <td>0.993565</td>\n",
       "    </tr>\n",
       "    <tr>\n",
       "      <th>...</th>\n",
       "      <td>...</td>\n",
       "    </tr>\n",
       "    <tr>\n",
       "      <th>2015-01-01 02:50:00</th>\n",
       "      <td>0.772053</td>\n",
       "    </tr>\n",
       "    <tr>\n",
       "      <th>2015-01-01 02:51:00</th>\n",
       "      <td>0.739154</td>\n",
       "    </tr>\n",
       "    <tr>\n",
       "      <th>2015-01-01 02:52:00</th>\n",
       "      <td>0.704389</td>\n",
       "    </tr>\n",
       "    <tr>\n",
       "      <th>2015-01-01 02:53:00</th>\n",
       "      <td>0.667846</td>\n",
       "    </tr>\n",
       "    <tr>\n",
       "      <th>2015-01-01 02:54:00</th>\n",
       "      <td>0.629616</td>\n",
       "    </tr>\n",
       "    <tr>\n",
       "      <th>2015-01-01 02:55:00</th>\n",
       "      <td>0.589798</td>\n",
       "    </tr>\n",
       "    <tr>\n",
       "      <th>2015-01-01 02:56:00</th>\n",
       "      <td>0.548490</td>\n",
       "    </tr>\n",
       "    <tr>\n",
       "      <th>2015-01-01 02:57:00</th>\n",
       "      <td>0.505797</td>\n",
       "    </tr>\n",
       "    <tr>\n",
       "      <th>2015-01-01 02:58:00</th>\n",
       "      <td>0.461827</td>\n",
       "    </tr>\n",
       "    <tr>\n",
       "      <th>2015-01-01 02:59:00</th>\n",
       "      <td>0.416692</td>\n",
       "    </tr>\n",
       "    <tr>\n",
       "      <th>2015-01-01 03:00:00</th>\n",
       "      <td>0.370504</td>\n",
       "    </tr>\n",
       "    <tr>\n",
       "      <th>2015-01-01 03:01:00</th>\n",
       "      <td>0.323381</td>\n",
       "    </tr>\n",
       "    <tr>\n",
       "      <th>2015-01-01 03:02:00</th>\n",
       "      <td>0.275442</td>\n",
       "    </tr>\n",
       "    <tr>\n",
       "      <th>2015-01-01 03:03:00</th>\n",
       "      <td>0.226807</td>\n",
       "    </tr>\n",
       "    <tr>\n",
       "      <th>2015-01-01 03:04:00</th>\n",
       "      <td>0.177600</td>\n",
       "    </tr>\n",
       "    <tr>\n",
       "      <th>2015-01-01 03:05:00</th>\n",
       "      <td>0.127944</td>\n",
       "    </tr>\n",
       "    <tr>\n",
       "      <th>2015-01-01 03:06:00</th>\n",
       "      <td>0.077965</td>\n",
       "    </tr>\n",
       "    <tr>\n",
       "      <th>2015-01-01 03:07:00</th>\n",
       "      <td>0.027789</td>\n",
       "    </tr>\n",
       "    <tr>\n",
       "      <th>2015-01-01 03:08:00</th>\n",
       "      <td>-0.022456</td>\n",
       "    </tr>\n",
       "    <tr>\n",
       "      <th>2015-01-01 03:09:00</th>\n",
       "      <td>-0.072645</td>\n",
       "    </tr>\n",
       "    <tr>\n",
       "      <th>2015-01-01 03:10:00</th>\n",
       "      <td>-0.122651</td>\n",
       "    </tr>\n",
       "    <tr>\n",
       "      <th>2015-01-01 03:11:00</th>\n",
       "      <td>-0.172347</td>\n",
       "    </tr>\n",
       "    <tr>\n",
       "      <th>2015-01-01 03:12:00</th>\n",
       "      <td>-0.221608</td>\n",
       "    </tr>\n",
       "    <tr>\n",
       "      <th>2015-01-01 03:13:00</th>\n",
       "      <td>-0.270310</td>\n",
       "    </tr>\n",
       "    <tr>\n",
       "      <th>2015-01-01 03:14:00</th>\n",
       "      <td>-0.318329</td>\n",
       "    </tr>\n",
       "    <tr>\n",
       "      <th>2015-01-01 03:15:00</th>\n",
       "      <td>-0.365544</td>\n",
       "    </tr>\n",
       "    <tr>\n",
       "      <th>2015-01-01 03:16:00</th>\n",
       "      <td>-0.411836</td>\n",
       "    </tr>\n",
       "    <tr>\n",
       "      <th>2015-01-01 03:17:00</th>\n",
       "      <td>-0.457089</td>\n",
       "    </tr>\n",
       "    <tr>\n",
       "      <th>2015-01-01 03:18:00</th>\n",
       "      <td>-0.501188</td>\n",
       "    </tr>\n",
       "    <tr>\n",
       "      <th>2015-01-01 03:19:00</th>\n",
       "      <td>-0.544021</td>\n",
       "    </tr>\n",
       "  </tbody>\n",
       "</table>\n",
       "<p>200 rows × 1 columns</p>\n",
       "</div></td><td> channel_2<br/>f_GHz: 16<div>\n",
       "<table border=\"1\" class=\"dataframe\">\n",
       "  <thead>\n",
       "    <tr style=\"text-align: right;\">\n",
       "      <th></th>\n",
       "      <th>rx</th>\n",
       "    </tr>\n",
       "  </thead>\n",
       "  <tbody>\n",
       "    <tr>\n",
       "      <th>2015-01-01 00:00:00</th>\n",
       "      <td>0.000000</td>\n",
       "    </tr>\n",
       "    <tr>\n",
       "      <th>2015-01-01 00:01:00</th>\n",
       "      <td>0.050230</td>\n",
       "    </tr>\n",
       "    <tr>\n",
       "      <th>2015-01-01 00:02:00</th>\n",
       "      <td>0.100333</td>\n",
       "    </tr>\n",
       "    <tr>\n",
       "      <th>2015-01-01 00:03:00</th>\n",
       "      <td>0.150183</td>\n",
       "    </tr>\n",
       "    <tr>\n",
       "      <th>2015-01-01 00:04:00</th>\n",
       "      <td>0.199654</td>\n",
       "    </tr>\n",
       "    <tr>\n",
       "      <th>2015-01-01 00:05:00</th>\n",
       "      <td>0.248621</td>\n",
       "    </tr>\n",
       "    <tr>\n",
       "      <th>2015-01-01 00:06:00</th>\n",
       "      <td>0.296960</td>\n",
       "    </tr>\n",
       "    <tr>\n",
       "      <th>2015-01-01 00:07:00</th>\n",
       "      <td>0.344549</td>\n",
       "    </tr>\n",
       "    <tr>\n",
       "      <th>2015-01-01 00:08:00</th>\n",
       "      <td>0.391269</td>\n",
       "    </tr>\n",
       "    <tr>\n",
       "      <th>2015-01-01 00:09:00</th>\n",
       "      <td>0.437001</td>\n",
       "    </tr>\n",
       "    <tr>\n",
       "      <th>2015-01-01 00:10:00</th>\n",
       "      <td>0.481629</td>\n",
       "    </tr>\n",
       "    <tr>\n",
       "      <th>2015-01-01 00:11:00</th>\n",
       "      <td>0.525041</td>\n",
       "    </tr>\n",
       "    <tr>\n",
       "      <th>2015-01-01 00:12:00</th>\n",
       "      <td>0.567128</td>\n",
       "    </tr>\n",
       "    <tr>\n",
       "      <th>2015-01-01 00:13:00</th>\n",
       "      <td>0.607783</td>\n",
       "    </tr>\n",
       "    <tr>\n",
       "      <th>2015-01-01 00:14:00</th>\n",
       "      <td>0.646904</td>\n",
       "    </tr>\n",
       "    <tr>\n",
       "      <th>2015-01-01 00:15:00</th>\n",
       "      <td>0.684392</td>\n",
       "    </tr>\n",
       "    <tr>\n",
       "      <th>2015-01-01 00:16:00</th>\n",
       "      <td>0.720151</td>\n",
       "    </tr>\n",
       "    <tr>\n",
       "      <th>2015-01-01 00:17:00</th>\n",
       "      <td>0.754093</td>\n",
       "    </tr>\n",
       "    <tr>\n",
       "      <th>2015-01-01 00:18:00</th>\n",
       "      <td>0.786130</td>\n",
       "    </tr>\n",
       "    <tr>\n",
       "      <th>2015-01-01 00:19:00</th>\n",
       "      <td>0.816183</td>\n",
       "    </tr>\n",
       "    <tr>\n",
       "      <th>2015-01-01 00:20:00</th>\n",
       "      <td>0.844175</td>\n",
       "    </tr>\n",
       "    <tr>\n",
       "      <th>2015-01-01 00:21:00</th>\n",
       "      <td>0.870037</td>\n",
       "    </tr>\n",
       "    <tr>\n",
       "      <th>2015-01-01 00:22:00</th>\n",
       "      <td>0.893701</td>\n",
       "    </tr>\n",
       "    <tr>\n",
       "      <th>2015-01-01 00:23:00</th>\n",
       "      <td>0.915109</td>\n",
       "    </tr>\n",
       "    <tr>\n",
       "      <th>2015-01-01 00:24:00</th>\n",
       "      <td>0.934207</td>\n",
       "    </tr>\n",
       "    <tr>\n",
       "      <th>2015-01-01 00:25:00</th>\n",
       "      <td>0.950947</td>\n",
       "    </tr>\n",
       "    <tr>\n",
       "      <th>2015-01-01 00:26:00</th>\n",
       "      <td>0.965285</td>\n",
       "    </tr>\n",
       "    <tr>\n",
       "      <th>2015-01-01 00:27:00</th>\n",
       "      <td>0.977187</td>\n",
       "    </tr>\n",
       "    <tr>\n",
       "      <th>2015-01-01 00:28:00</th>\n",
       "      <td>0.986621</td>\n",
       "    </tr>\n",
       "    <tr>\n",
       "      <th>2015-01-01 00:29:00</th>\n",
       "      <td>0.993565</td>\n",
       "    </tr>\n",
       "    <tr>\n",
       "      <th>...</th>\n",
       "      <td>...</td>\n",
       "    </tr>\n",
       "    <tr>\n",
       "      <th>2015-01-01 02:50:00</th>\n",
       "      <td>0.772053</td>\n",
       "    </tr>\n",
       "    <tr>\n",
       "      <th>2015-01-01 02:51:00</th>\n",
       "      <td>0.739154</td>\n",
       "    </tr>\n",
       "    <tr>\n",
       "      <th>2015-01-01 02:52:00</th>\n",
       "      <td>0.704389</td>\n",
       "    </tr>\n",
       "    <tr>\n",
       "      <th>2015-01-01 02:53:00</th>\n",
       "      <td>0.667846</td>\n",
       "    </tr>\n",
       "    <tr>\n",
       "      <th>2015-01-01 02:54:00</th>\n",
       "      <td>0.629616</td>\n",
       "    </tr>\n",
       "    <tr>\n",
       "      <th>2015-01-01 02:55:00</th>\n",
       "      <td>0.589798</td>\n",
       "    </tr>\n",
       "    <tr>\n",
       "      <th>2015-01-01 02:56:00</th>\n",
       "      <td>0.548490</td>\n",
       "    </tr>\n",
       "    <tr>\n",
       "      <th>2015-01-01 02:57:00</th>\n",
       "      <td>0.505797</td>\n",
       "    </tr>\n",
       "    <tr>\n",
       "      <th>2015-01-01 02:58:00</th>\n",
       "      <td>0.461827</td>\n",
       "    </tr>\n",
       "    <tr>\n",
       "      <th>2015-01-01 02:59:00</th>\n",
       "      <td>0.416692</td>\n",
       "    </tr>\n",
       "    <tr>\n",
       "      <th>2015-01-01 03:00:00</th>\n",
       "      <td>0.370504</td>\n",
       "    </tr>\n",
       "    <tr>\n",
       "      <th>2015-01-01 03:01:00</th>\n",
       "      <td>0.323381</td>\n",
       "    </tr>\n",
       "    <tr>\n",
       "      <th>2015-01-01 03:02:00</th>\n",
       "      <td>0.275442</td>\n",
       "    </tr>\n",
       "    <tr>\n",
       "      <th>2015-01-01 03:03:00</th>\n",
       "      <td>0.226807</td>\n",
       "    </tr>\n",
       "    <tr>\n",
       "      <th>2015-01-01 03:04:00</th>\n",
       "      <td>0.177600</td>\n",
       "    </tr>\n",
       "    <tr>\n",
       "      <th>2015-01-01 03:05:00</th>\n",
       "      <td>0.127944</td>\n",
       "    </tr>\n",
       "    <tr>\n",
       "      <th>2015-01-01 03:06:00</th>\n",
       "      <td>0.077965</td>\n",
       "    </tr>\n",
       "    <tr>\n",
       "      <th>2015-01-01 03:07:00</th>\n",
       "      <td>0.027789</td>\n",
       "    </tr>\n",
       "    <tr>\n",
       "      <th>2015-01-01 03:08:00</th>\n",
       "      <td>-0.022456</td>\n",
       "    </tr>\n",
       "    <tr>\n",
       "      <th>2015-01-01 03:09:00</th>\n",
       "      <td>-0.072645</td>\n",
       "    </tr>\n",
       "    <tr>\n",
       "      <th>2015-01-01 03:10:00</th>\n",
       "      <td>-0.122651</td>\n",
       "    </tr>\n",
       "    <tr>\n",
       "      <th>2015-01-01 03:11:00</th>\n",
       "      <td>-0.172347</td>\n",
       "    </tr>\n",
       "    <tr>\n",
       "      <th>2015-01-01 03:12:00</th>\n",
       "      <td>-0.221608</td>\n",
       "    </tr>\n",
       "    <tr>\n",
       "      <th>2015-01-01 03:13:00</th>\n",
       "      <td>-0.270310</td>\n",
       "    </tr>\n",
       "    <tr>\n",
       "      <th>2015-01-01 03:14:00</th>\n",
       "      <td>-0.318329</td>\n",
       "    </tr>\n",
       "    <tr>\n",
       "      <th>2015-01-01 03:15:00</th>\n",
       "      <td>-0.365544</td>\n",
       "    </tr>\n",
       "    <tr>\n",
       "      <th>2015-01-01 03:16:00</th>\n",
       "      <td>-0.411836</td>\n",
       "    </tr>\n",
       "    <tr>\n",
       "      <th>2015-01-01 03:17:00</th>\n",
       "      <td>-0.457089</td>\n",
       "    </tr>\n",
       "    <tr>\n",
       "      <th>2015-01-01 03:18:00</th>\n",
       "      <td>-0.501188</td>\n",
       "    </tr>\n",
       "    <tr>\n",
       "      <th>2015-01-01 03:19:00</th>\n",
       "      <td>-0.544021</td>\n",
       "    </tr>\n",
       "  </tbody>\n",
       "</table>\n",
       "<p>200 rows × 1 columns</p>\n",
       "</div></td></tr></table>"
      ],
      "text/plain": [
       "<pycomlink.core.comlink.Comlink at 0x10d6ab310>"
      ]
     },
     "execution_count": 10,
     "metadata": {},
     "output_type": "execute_result"
    }
   ],
   "source": [
    "cml"
   ]
  },
  {
   "cell_type": "code",
   "execution_count": null,
   "metadata": {
    "collapsed": false
   },
   "outputs": [],
   "source": []
  },
  {
   "cell_type": "code",
   "execution_count": 21,
   "metadata": {
    "collapsed": false
   },
   "outputs": [
    {
     "name": "stdout",
     "output_type": "stream",
     "text": [
      "Could not find TRSL in channel. Using TX-RX or only RX.\n",
      "Could not find TRSL in channel. Using TX-RX or only RX.\n"
     ]
    }
   ],
   "source": [
    "cml = pycml.wet_dry.std_dev.std_dev_classification(cml, window_length=10, threshold=0.11)"
   ]
  },
  {
   "cell_type": "code",
   "execution_count": 23,
   "metadata": {
    "collapsed": false
   },
   "outputs": [
    {
     "data": {
      "text/plain": [
       "[<matplotlib.lines.Line2D at 0x120903450>,\n",
       " <matplotlib.lines.Line2D at 0x12097d490>]"
      ]
     },
     "execution_count": 23,
     "metadata": {},
     "output_type": "execute_result"
    },
    {
     "data": {
      "image/png": "[encoded data removed]",
      "text/plain": [
       "<matplotlib.figure.Figure at 0x11fd0cfd0>"
      ]
     },
     "metadata": {},
     "output_type": "display_data"
    }
   ],
   "source": [
    "plt.plot(cml.channel_1)"
   ]
  },
  {
   "cell_type": "code",
   "execution_count": 29,
   "metadata": {
    "collapsed": false
   },
   "outputs": [
    {
     "name": "stdout",
     "output_type": "stream",
     "text": [
      "Could not find TRSL in channel. Using TX-RX or only RX.\n"
     ]
    }
   ],
   "source": [
    "ts_wet, roll_std_dev = pycml.wet_dry.std_dev.std_dev_classification(cml.channel_1, window_length=10, threshold=0.11)"
   ]
  },
  {
   "cell_type": "code",
   "execution_count": 32,
   "metadata": {
    "collapsed": false
   },
   "outputs": [
    {
     "data": {
      "text/plain": [
       "[<matplotlib.lines.Line2D at 0x1216ef190>]"
      ]
     },
     "execution_count": 32,
     "metadata": {},
     "output_type": "execute_result"
    },
    {
     "data": {
      "image/png": "[encoded data removed]",
      "text/plain": [
       "<matplotlib.figure.Figure at 0x12156a390>"
      ]
     },
     "metadata": {},
     "output_type": "display_data"
    }
   ],
   "source": [
    "plt.plot(cml.channel_1.rx)\n",
    "plt.plot(ts_wet)"
   ]
  },
  {
   "cell_type": "markdown",
   "metadata": {},
   "source": [
    "# Timing for pandas operation *in_place* vs. *copy* "
   ]
  },
  {
   "cell_type": "code",
   "execution_count": 7,
   "metadata": {
    "collapsed": true
   },
   "outputs": [],
   "source": [
    "import pandas as pd\n",
    "import numpy as np"
   ]
  },
  {
   "cell_type": "code",
   "execution_count": 8,
   "metadata": {
    "collapsed": false
   },
   "outputs": [],
   "source": [
    "def update_inplace(df, key, factor):\n",
    "    df[key] = df['test1'] * factor\n",
    "    return df\n",
    "\n",
    "def update_and_return_copy(df, key, factor):\n",
    "    df_new = df.copy(deep=True)\n",
    "    df_new[key] = df_new['test1'] * factor\n",
    "    return df_new"
   ]
  },
  {
   "cell_type": "code",
   "execution_count": 9,
   "metadata": {
    "collapsed": false
   },
   "outputs": [],
   "source": [
    "df = pd.DataFrame(data={'test1': np.random.rand(1000000)})"
   ]
  },
  {
   "cell_type": "code",
   "execution_count": 10,
   "metadata": {
    "collapsed": false
   },
   "outputs": [],
   "source": [
    "df_updated_inplace = update_inplace(df, 'in_place', 5)"
   ]
  },
  {
   "cell_type": "code",
   "execution_count": 11,
   "metadata": {
    "collapsed": false
   },
   "outputs": [
    {
     "data": {
      "text/html": [
       "<div>\n",
       "<table border=\"1\" class=\"dataframe\">\n",
       "  <thead>\n",
       "    <tr style=\"text-align: right;\">\n",
       "      <th></th>\n",
       "      <th>test1</th>\n",
       "      <th>in_place</th>\n",
       "    </tr>\n",
       "  </thead>\n",
       "  <tbody>\n",
       "    <tr>\n",
       "      <th>0</th>\n",
       "      <td>0.462386</td>\n",
       "      <td>2.311929</td>\n",
       "    </tr>\n",
       "    <tr>\n",
       "      <th>1</th>\n",
       "      <td>0.312162</td>\n",
       "      <td>1.560808</td>\n",
       "    </tr>\n",
       "    <tr>\n",
       "      <th>2</th>\n",
       "      <td>0.105920</td>\n",
       "      <td>0.529602</td>\n",
       "    </tr>\n",
       "    <tr>\n",
       "      <th>3</th>\n",
       "      <td>0.729099</td>\n",
       "      <td>3.645497</td>\n",
       "    </tr>\n",
       "    <tr>\n",
       "      <th>4</th>\n",
       "      <td>0.741368</td>\n",
       "      <td>3.706840</td>\n",
       "    </tr>\n",
       "  </tbody>\n",
       "</table>\n",
       "</div>"
      ],
      "text/plain": [
       "      test1  in_place\n",
       "0  0.462386  2.311929\n",
       "1  0.312162  1.560808\n",
       "2  0.105920  0.529602\n",
       "3  0.729099  3.645497\n",
       "4  0.741368  3.706840"
      ]
     },
     "execution_count": 11,
     "metadata": {},
     "output_type": "execute_result"
    }
   ],
   "source": [
    "df_updated_inplace.head()"
   ]
  },
  {
   "cell_type": "code",
   "execution_count": 12,
   "metadata": {
    "collapsed": true
   },
   "outputs": [],
   "source": [
    "df['test1'].ix[0] = -99999"
   ]
  },
  {
   "cell_type": "code",
   "execution_count": 13,
   "metadata": {
    "collapsed": false
   },
   "outputs": [
    {
     "data": {
      "text/html": [
       "<div>\n",
       "<table border=\"1\" class=\"dataframe\">\n",
       "  <thead>\n",
       "    <tr style=\"text-align: right;\">\n",
       "      <th></th>\n",
       "      <th>test1</th>\n",
       "      <th>in_place</th>\n",
       "    </tr>\n",
       "  </thead>\n",
       "  <tbody>\n",
       "    <tr>\n",
       "      <th>0</th>\n",
       "      <td>-99999.000000</td>\n",
       "      <td>2.311929</td>\n",
       "    </tr>\n",
       "    <tr>\n",
       "      <th>1</th>\n",
       "      <td>0.312162</td>\n",
       "      <td>1.560808</td>\n",
       "    </tr>\n",
       "    <tr>\n",
       "      <th>2</th>\n",
       "      <td>0.105920</td>\n",
       "      <td>0.529602</td>\n",
       "    </tr>\n",
       "    <tr>\n",
       "      <th>3</th>\n",
       "      <td>0.729099</td>\n",
       "      <td>3.645497</td>\n",
       "    </tr>\n",
       "    <tr>\n",
       "      <th>4</th>\n",
       "      <td>0.741368</td>\n",
       "      <td>3.706840</td>\n",
       "    </tr>\n",
       "  </tbody>\n",
       "</table>\n",
       "</div>"
      ],
      "text/plain": [
       "          test1  in_place\n",
       "0 -99999.000000  2.311929\n",
       "1      0.312162  1.560808\n",
       "2      0.105920  0.529602\n",
       "3      0.729099  3.645497\n",
       "4      0.741368  3.706840"
      ]
     },
     "execution_count": 13,
     "metadata": {},
     "output_type": "execute_result"
    }
   ],
   "source": [
    "df_updated_inplace.head()"
   ]
  },
  {
   "cell_type": "code",
   "execution_count": 14,
   "metadata": {
    "collapsed": true
   },
   "outputs": [],
   "source": [
    "df = pd.DataFrame(data={'test1': np.random.rand(10000000)})"
   ]
  },
  {
   "cell_type": "code",
   "execution_count": 15,
   "metadata": {
    "collapsed": false
   },
   "outputs": [],
   "source": [
    "df_updated_copy = update_and_return_copy(df, 'copied', 3)"
   ]
  },
  {
   "cell_type": "code",
   "execution_count": 16,
   "metadata": {
    "collapsed": false
   },
   "outputs": [
    {
     "data": {
      "text/html": [
       "<div>\n",
       "<table border=\"1\" class=\"dataframe\">\n",
       "  <thead>\n",
       "    <tr style=\"text-align: right;\">\n",
       "      <th></th>\n",
       "      <th>test1</th>\n",
       "      <th>copied</th>\n",
       "    </tr>\n",
       "  </thead>\n",
       "  <tbody>\n",
       "    <tr>\n",
       "      <th>0</th>\n",
       "      <td>0.811737</td>\n",
       "      <td>2.435210</td>\n",
       "    </tr>\n",
       "    <tr>\n",
       "      <th>1</th>\n",
       "      <td>0.473870</td>\n",
       "      <td>1.421610</td>\n",
       "    </tr>\n",
       "    <tr>\n",
       "      <th>2</th>\n",
       "      <td>0.025125</td>\n",
       "      <td>0.075375</td>\n",
       "    </tr>\n",
       "    <tr>\n",
       "      <th>3</th>\n",
       "      <td>0.991302</td>\n",
       "      <td>2.973907</td>\n",
       "    </tr>\n",
       "    <tr>\n",
       "      <th>4</th>\n",
       "      <td>0.057723</td>\n",
       "      <td>0.173168</td>\n",
       "    </tr>\n",
       "  </tbody>\n",
       "</table>\n",
       "</div>"
      ],
      "text/plain": [
       "      test1    copied\n",
       "0  0.811737  2.435210\n",
       "1  0.473870  1.421610\n",
       "2  0.025125  0.075375\n",
       "3  0.991302  2.973907\n",
       "4  0.057723  0.173168"
      ]
     },
     "execution_count": 16,
     "metadata": {},
     "output_type": "execute_result"
    }
   ],
   "source": [
    "df_updated_copy.head()"
   ]
  },
  {
   "cell_type": "code",
   "execution_count": 17,
   "metadata": {
    "collapsed": true
   },
   "outputs": [],
   "source": [
    "df['test1'].ix[0] = -99999"
   ]
  },
  {
   "cell_type": "code",
   "execution_count": 18,
   "metadata": {
    "collapsed": false
   },
   "outputs": [
    {
     "data": {
      "text/html": [
       "<div>\n",
       "<table border=\"1\" class=\"dataframe\">\n",
       "  <thead>\n",
       "    <tr style=\"text-align: right;\">\n",
       "      <th></th>\n",
       "      <th>test1</th>\n",
       "      <th>copied</th>\n",
       "    </tr>\n",
       "  </thead>\n",
       "  <tbody>\n",
       "    <tr>\n",
       "      <th>0</th>\n",
       "      <td>0.811737</td>\n",
       "      <td>2.435210</td>\n",
       "    </tr>\n",
       "    <tr>\n",
       "      <th>1</th>\n",
       "      <td>0.473870</td>\n",
       "      <td>1.421610</td>\n",
       "    </tr>\n",
       "    <tr>\n",
       "      <th>2</th>\n",
       "      <td>0.025125</td>\n",
       "      <td>0.075375</td>\n",
       "    </tr>\n",
       "    <tr>\n",
       "      <th>3</th>\n",
       "      <td>0.991302</td>\n",
       "      <td>2.973907</td>\n",
       "    </tr>\n",
       "    <tr>\n",
       "      <th>4</th>\n",
       "      <td>0.057723</td>\n",
       "      <td>0.173168</td>\n",
       "    </tr>\n",
       "  </tbody>\n",
       "</table>\n",
       "</div>"
      ],
      "text/plain": [
       "      test1    copied\n",
       "0  0.811737  2.435210\n",
       "1  0.473870  1.421610\n",
       "2  0.025125  0.075375\n",
       "3  0.991302  2.973907\n",
       "4  0.057723  0.173168"
      ]
     },
     "execution_count": 18,
     "metadata": {},
     "output_type": "execute_result"
    }
   ],
   "source": [
    "df_updated_copy.head()"
   ]
  },
  {
   "cell_type": "code",
   "execution_count": 19,
   "metadata": {
    "collapsed": false
   },
   "outputs": [
    {
     "name": "stdout",
     "output_type": "stream",
     "text": [
      "10 loops, best of 3: 70.7 ms per loop\n"
     ]
    }
   ],
   "source": [
    "%%timeit\n",
    "df_updated_inplace = update_inplace(df, 'in_place', 5)"
   ]
  },
  {
   "cell_type": "code",
   "execution_count": 20,
   "metadata": {
    "collapsed": false
   },
   "outputs": [
    {
     "name": "stdout",
     "output_type": "stream",
     "text": [
      "1 loop, best of 3: 129 ms per loop\n"
     ]
    }
   ],
   "source": [
    "%%timeit\n",
    "df_updated_copy = update_and_return_copy(df, 'copied', 3)"
   ]
  },
  {
   "cell_type": "code",
   "execution_count": null,
   "metadata": {
    "collapsed": true
   },
   "outputs": [],
   "source": []
  }
 ],
 "metadata": {
  "kernelspec": {
   "display_name": "Python 2",
   "language": "python",
   "name": "python2"
  },
  "language_info": {
   "codemirror_mode": {
    "name": "ipython",
    "version": 2
   },
   "file_extension": ".py",
   "mimetype": "text/x-python",
   "name": "python",
   "nbconvert_exporter": "python",
   "pygments_lexer": "ipython2",
   "version": "2.7.12"
  }
 },
 "nbformat": 4,
 "nbformat_minor": 0
}
